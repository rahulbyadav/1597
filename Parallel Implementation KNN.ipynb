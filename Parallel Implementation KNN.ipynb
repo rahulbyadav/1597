from sklearn.neighbors import KNeighborsClassifier
from sklearn.datasets import load_iris
from joblib import Parallel, delayed

# Load the dataset
data = load_iris()
X = data.data
y = data.target

# Define the number of neighbors
n_neighbors = 5

# Define the number of parallel jobs
n_jobs = 2

# Function to compute KNN for a single sample
def knn_parallel(sample):
    knn = KNeighborsClassifier(n_neighbors=n_neighbors)
    knn.fit(X, y)
    return knn.predict([sample])

# Perform KNN in parallel
results = Parallel(n_jobs=n_jobs)(delayed(knn_parallel)(sample) for sample in X)

# Print the results
for sample, result in zip(X, results):
    print(f"Sample: {sample}, Predicted class: {result}")
