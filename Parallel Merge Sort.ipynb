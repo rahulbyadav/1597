import random
import multiprocessing

def merge_sort_parallel(arr):
    if len(arr) <= 1:
        return arr
    
    mid = len(arr) // 2
    left = arr[:mid]
    right = arr[mid:]
    
    # Create multiple processes for parallel execution
    processes = []
    for sublist in (left, right):
        process = multiprocessing.Process(target=merge_sort_parallel, args=(sublist,))
        process.start()
        processes.append(process)
    
    # Wait for all processes to finish
    for process in processes:
        process.join()
    
    # Merge the sorted sublists
    sorted_arr = merge_sorted_chunks(left, right)
    return sorted_arr

if __name__ == '__main__':
    # Generate a random array
    arr = [random.randint(1, 100) for _ in range(10)]
    
    # Print the unsorted array
    print("Unsorted array:", arr)
    
    # Create a process pool with all available resources
    pool = multiprocessing.Pool()
    
    # Perform parallel merge sort on the array
    sorted_arr = merge_sort_parallel(arr)
    
    # Print the sorted array
    print("Sorted array:", sorted_arr)
