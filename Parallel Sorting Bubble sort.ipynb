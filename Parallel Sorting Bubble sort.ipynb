import random
import multiprocessing

def bubble_sort_parallel(arr):
    n = len(arr)
    for i in range(n):
        # Create multiple processes for parallel execution
        processes = []
        for j in range(n - i - 1):
            if arr[j] > arr[j + 1]:
                # Swap the elements
                arr[j], arr[j + 1] = arr[j + 1], arr[j]
        
        # Wait for all processes to finish
        for process in processes:
            process.join()

if __name__ == '__main__':
    # Generate a random array
    arr = [random.randint(1, 100) for _ in range(10)]
    
    # Print the unsorted array
    print("Unsorted array:", arr)
    
    # Create a process pool with all available resources
    pool = multiprocessing.Pool()
    
    # Divide the array into chunks
    chunk_size = len(arr) // multiprocessing.cpu_count()
    chunks = [arr[i:i+chunk_size] for i in range(0, len(arr), chunk_size)]
    
    # Perform parallel bubble sort on each chunk
    pool.map(bubble_sort_parallel, chunks)
    
    # Merge the sorted chunks
    sorted_arr = []
    while len(chunks) > 1:
        merged_chunks = []
        for i in range(0, len(chunks), 2):
            if i + 1 < len(chunks):
                merged_chunks.append(merge_sorted_chunks(chunks[i], chunks[i + 1]))
            else:
                merged_chunks.append(chunks[i])
        chunks = merged_chunks
    
    sorted_arr = chunks[0]
    
    # Print the sorted array
    print("Sorted array:", sorted_arr)
