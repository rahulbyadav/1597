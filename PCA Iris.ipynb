Step 1: Import the necessary libraries:

import numpy as np
import pandas as pd
from sklearn.decomposition import PCA
from sklearn.datasets import load_iris
from sklearn.preprocessing import StandardScaler
import matplotlib.pyplot as plt

Step 2: Load the IRIS dataset:

iris = load_iris()
X = iris.data
y = iris.target
feature_names = iris.feature_names

Step 3: Standardize the data:

PCA is sensitive to the scale of the input features, so it's important to standardize the data before applying PCA.
scaler = StandardScaler()
X_scaled = scaler.fit_transform(X)

Step 4: Apply PCA:

pca = PCA(n_components=2)  # Specify the number of components to keep
X_pca = pca.fit_transform(X_scaled)

Step 5: Visualize the results:

plt.figure(figsize=(8, 6))
colors = ['blue', 'red', 'green']
for target, color in zip(np.unique(y), colors):
    indices = np.where(y == target)
    plt.scatter(X_pca[indices, 0], X_pca[indices, 1], c=color, label=target)
plt.xlabel('Principal Component 1')
plt.ylabel('Principal Component 2')
plt.title('IRIS Dataset - PCA')
plt.legend()
plt.show()
