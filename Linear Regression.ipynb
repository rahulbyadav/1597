import numpy as np
from sklearn.linear_model import LinearRegression

# Input (predictor) variable: height in cms
height = np.array([151, 174, 138, 186, 128, 136, 179, 163, 152, 131]).reshape(-1, 1)

# Output (response) variable: weight in kgs
weight = np.array([63, 81, 56, 91, 47, 57, 76, 72, 62, 48])

# Create and fit the linear regression model
lr_model = LinearRegression()
lr_model.fit(height, weight)

# Predict the weight for a height of 180 cm
predicted_weight = lr_model.predict([[180]])

# Print the accuracy of the model (coefficient of determination)
accuracy = lr_model.score(height, weight)
print("Accuracy:", accuracy)

# Print the predicted weight for a height of 180 cm
print("Predicted weight for height 180 cm:", predicted_weight)
