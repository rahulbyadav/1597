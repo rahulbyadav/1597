import numpy as np
import multiprocessing

def parallel_matrix_multiplication(matrix1, matrix2):
    n = len(matrix1)
    result = np.zeros((n, n))
    num_processors = multiprocessing.cpu_count()
    chunk_size = n // num_processors
    
    def multiply_chunk(start, end):
        for i in range(start, end):
            for j in range(n):
                for k in range(n):
                    result[i][j] += matrix1[i][k] * matrix2[k][j]
    
    processes = []
    for i in range(num_processors):
        start = i * chunk_size
        end = start + chunk_size
        process = multiprocessing.Process(target=multiply_chunk, args=(start, end))
        process.start()
        processes.append(process)
    
    for process in processes:
        process.join()
    
    return result

# Example usage
matrix1 = np.array([[1, 2, 3],
                    [4, 5, 6],
                    [7, 8, 9]])
matrix2 = np.array([[9, 8, 7],
                    [6, 5, 4],
                    [3, 2, 1]])
result = parallel_matrix_multiplication(matrix1, matrix2)
print(result)
